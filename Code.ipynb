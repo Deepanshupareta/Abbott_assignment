{
 "cells": [
  {
   "cell_type": "code",
   "execution_count": 219,
   "id": "4899a4b5",
   "metadata": {},
   "outputs": [],
   "source": [
    "import csv\n",
    "dat = []\n",
    "with open('/Users/deepanshu/Downloads/h1b_input.txt', 'r') as file:\n",
    "    my_reader = csv.reader(file, delimiter=';')\n",
    "    for row in my_reader:\n",
    "        dat.append(row)"
   ]
  },
  {
   "cell_type": "code",
   "execution_count": 249,
   "id": "7ae58794",
   "metadata": {},
   "outputs": [],
   "source": [
    "a = []\n",
    "ab = ['0']\n",
    "for i in range(1,10):\n",
    "    ac = 0\n",
    "    ab = ['0']\n",
    "    for k in range(len(a)):\n",
    "        if(int(float(dat[i][25])) != int(float(a[k][0]))):\n",
    "            for j in range(i + 1, len(dat)):\n",
    "                if(dat[i][2] == 'CERTIFIED' and dat[j][2] == 'CERTIFIED'):\n",
    "                    if(dat[i][25] == dat[j][25]):\n",
    "                        ac = dat[i][25]\n",
    "                        ab = [int(ab[0]) + int(float(dat[i][25]))+int(float(dat[i][25]))]\n",
    "    if ac == dat[i][25]:\n",
    "        a.append([dat[i][25]]+ ab)\n",
    "    else:\n",
    "        a.append([dat[i][25]]+ [dat[i][25]])"
   ]
  },
  {
   "cell_type": "code",
   "execution_count": 250,
   "id": "795cbf45",
   "metadata": {},
   "outputs": [],
   "source": [
    "one_ip = []\n",
    "for i in range(len(a)):\n",
    "    one_ip.append(a[i][0])"
   ]
  },
  {
   "cell_type": "code",
   "execution_count": 251,
   "id": "9e628a6c",
   "metadata": {},
   "outputs": [],
   "source": [
    "one_ip = set(one_ip)\n",
    "one_ip = list(one_ip)"
   ]
  },
  {
   "cell_type": "code",
   "execution_count": 252,
   "id": "9cfd94c4",
   "metadata": {},
   "outputs": [],
   "source": [
    "b = []\n",
    "for i in range(len(one_ip)):\n",
    "    for j in range(len(a)):\n",
    "        if int(float(a[j][0])) == int(float(one_ip[i])):\n",
    "            b.append(a[j])\n",
    "            break"
   ]
  },
  {
   "cell_type": "code",
   "execution_count": 253,
   "id": "fae87765",
   "metadata": {},
   "outputs": [
    {
     "data": {
      "text/plain": [
       "[['541211.0', '541211.0'],\n",
       " ['541512.0', '541512.0'],\n",
       " ['541511.0', 12996264],\n",
       " ['51121.0', '51121.0']]"
      ]
     },
     "execution_count": 253,
     "metadata": {},
     "output_type": "execute_result"
    }
   ],
   "source": [
    "b"
   ]
  },
  {
   "cell_type": "code",
   "execution_count": null,
   "id": "ad6ddc2c",
   "metadata": {},
   "outputs": [],
   "source": []
  }
 ],
 "metadata": {
  "language_info": {
   "codemirror_mode": {
    "name": "ipython",
    "version": 3
   },
   "file_extension": ".py",
   "mimetype": "text/x-python",
   "name": "python",
   "nbconvert_exporter": "python",
   "pygments_lexer": "ipython3",
   "version": "3.9.12"
  }
 },
 "nbformat": 4,
 "nbformat_minor": 5
}
